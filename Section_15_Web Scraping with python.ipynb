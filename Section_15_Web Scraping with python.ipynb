{
 "cells": [
  {
   "cell_type": "code",
   "execution_count": 4,
   "id": "41df2088",
   "metadata": {},
   "outputs": [
    {
     "data": {
      "text/plain": [
       "'Example Domain'"
      ]
     },
     "execution_count": 4,
     "metadata": {},
     "output_type": "execute_result"
    }
   ],
   "source": [
    "# Grabbing a title\n",
    "\n",
    "import requests\n",
    "import bs4\n",
    "\n",
    "result = requests.get(\"https://example.com/\")\n",
    "soup = bs4.BeautifulSoup(result.text,\"lxml\")\n",
    "soup.select('title')[0].getText()"
   ]
  },
  {
   "cell_type": "code",
   "execution_count": null,
   "id": "de514409",
   "metadata": {},
   "outputs": [],
   "source": [
    "# Grab the title of every book with a 2 star rating\n",
    "\n",
    "import requests\n",
    "import bs4\n",
    "\n",
    "base_url = \"https://books.toscrape.com/catalogue/page-{}.html\"\n",
    "\n",
    "two_star_titles = []\n",
    "\n",
    "for n in range(1,51):\n",
    "    \n",
    "    scrape_url = base_url.format(n)\n",
    "    res = requests.get(scrape_url)\n",
    "    soup = bs4.BeautifulSoup(res.text,\"lxml\")\n",
    "    books = soup.select(\".product_prod\")\n",
    "    \n",
    "    for book in books:\n",
    "        if len(book.select(\".star-rating Two\")) != 0:\n",
    "            two_star_titles.append(book.select('a')[1]['title'])\n"
   ]
  },
  {
   "cell_type": "code",
   "execution_count": null,
   "id": "f6a0e95e",
   "metadata": {},
   "outputs": [],
   "source": [
    "two_star_titles"
   ]
  },
  {
   "cell_type": "code",
   "execution_count": null,
   "id": "519d9d3e",
   "metadata": {},
   "outputs": [],
   "source": []
  }
 ],
 "metadata": {
  "kernelspec": {
   "display_name": "Python 3 (ipykernel)",
   "language": "python",
   "name": "python3"
  },
  "language_info": {
   "codemirror_mode": {
    "name": "ipython",
    "version": 3
   },
   "file_extension": ".py",
   "mimetype": "text/x-python",
   "name": "python",
   "nbconvert_exporter": "python",
   "pygments_lexer": "ipython3",
   "version": "3.11.5"
  }
 },
 "nbformat": 4,
 "nbformat_minor": 5
}
