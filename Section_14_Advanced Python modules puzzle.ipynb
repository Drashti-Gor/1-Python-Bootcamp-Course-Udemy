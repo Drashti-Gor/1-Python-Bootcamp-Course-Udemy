{
 "cells": [
  {
   "cell_type": "code",
   "execution_count": 17,
   "id": "2340ce3e",
   "metadata": {},
   "outputs": [],
   "source": [
    "import os\n",
    "\n",
    "def search(file,pattern = r'\\d{3}-\\d{3}-\\d{3}'):\n",
    "    f = open(file,\"r\")\n",
    "    text = f.read()\n",
    "    \n",
    "    if re.seach(pattern,text):\n",
    "        return re.search(pattern,text)\n",
    "    else:\n",
    "        return ''\n",
    "\n",
    "results = []\n",
    "for folder, subfolder, files in os.walk(os.getcwd() + \"\\extracted_content\"):\n",
    "    for f in files:\n",
    "        full_path = folder + '\\\\' + f\n",
    "        results.append(search(full_path))\n",
    "\n",
    "for r in results:\n",
    "    if r != '':\n",
    "        print(r.group())\n",
    "        \n"
   ]
  },
  {
   "cell_type": "code",
   "execution_count": null,
   "id": "a6852b72",
   "metadata": {},
   "outputs": [],
   "source": []
  }
 ],
 "metadata": {
  "kernelspec": {
   "display_name": "Python 3 (ipykernel)",
   "language": "python",
   "name": "python3"
  },
  "language_info": {
   "codemirror_mode": {
    "name": "ipython",
    "version": 3
   },
   "file_extension": ".py",
   "mimetype": "text/x-python",
   "name": "python",
   "nbconvert_exporter": "python",
   "pygments_lexer": "ipython3",
   "version": "3.11.5"
  }
 },
 "nbformat": 4,
 "nbformat_minor": 5
}
