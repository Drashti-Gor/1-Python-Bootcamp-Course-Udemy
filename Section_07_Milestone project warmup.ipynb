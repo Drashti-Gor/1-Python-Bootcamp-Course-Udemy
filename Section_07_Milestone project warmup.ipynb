{
 "cells": [
  {
   "cell_type": "code",
   "execution_count": 19,
   "id": "a2cd7b0e",
   "metadata": {},
   "outputs": [
    {
     "name": "stdout",
     "output_type": "stream",
     "text": [
      "\n",
      "Current list is:  [1, 2, 3]\n",
      "\n",
      "Please enter a number from 0,1 or 2: 0\n",
      "Please enter the new value: 8\n",
      "New list is:  ['8', 2, 3]\n",
      "Would you like to continue the game? Y or N: m\n",
      "Thank you for playing!\n"
     ]
    }
   ],
   "source": [
    "def position_game(index, value):\n",
    "    game_list.remove(game_list[index])\n",
    "    game_list.insert(index,value)\n",
    "    return game_list\n",
    "\n",
    "def continue_game(x):\n",
    "    if x == 'Y':\n",
    "        return True\n",
    "    else:\n",
    "        return False\n",
    "\n",
    "game_list = [1,2,3]\n",
    "game_on = True\n",
    "\n",
    "while game_on:\n",
    "    \n",
    "    print(\"\\nCurrent list is: \", game_list)\n",
    "    \n",
    "    index = int(input(\"\\nPlease enter a number from 0,1 or 2: \"))\n",
    "    if index not in [0, 1, 2]:\n",
    "        print(\"Please enter valid index number!\")\n",
    "        continue\n",
    "    else:\n",
    "        value = input(\"Please enter the new value: \")\n",
    "        position_game(index, value)\n",
    "    \n",
    "    print(\"New list is: \", game_list)\n",
    "    \n",
    "    x = input(\"Would you like to continue the game? Y or N: \")\n",
    "    game_on = continue_game(x)\n",
    "\n",
    "print(\"Thank you for playing!\")"
   ]
  },
  {
   "cell_type": "code",
   "execution_count": null,
   "id": "b4b17d19",
   "metadata": {},
   "outputs": [],
   "source": []
  }
 ],
 "metadata": {
  "kernelspec": {
   "display_name": "Python 3 (ipykernel)",
   "language": "python",
   "name": "python3"
  },
  "language_info": {
   "codemirror_mode": {
    "name": "ipython",
    "version": 3
   },
   "file_extension": ".py",
   "mimetype": "text/x-python",
   "name": "python",
   "nbconvert_exporter": "python",
   "pygments_lexer": "ipython3",
   "version": "3.9.12"
  }
 },
 "nbformat": 4,
 "nbformat_minor": 5
}
