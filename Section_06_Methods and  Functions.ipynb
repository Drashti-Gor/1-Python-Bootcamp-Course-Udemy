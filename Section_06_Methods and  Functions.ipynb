{
 "cells": [
  {
   "cell_type": "code",
   "execution_count": 15,
   "id": "5050a0cd",
   "metadata": {},
   "outputs": [
    {
     "name": "stdout",
     "output_type": "stream",
     "text": [
      "[' ', ' ', 'O']\n",
      "Pick a number from 0,1 and 2: 2\n",
      "Correct guess!\n"
     ]
    }
   ],
   "source": [
    "# 47. Interaction between python functions\n",
    "\n",
    "# A guessing game. There will be 3 positions in the list, one of which is an 'O', \n",
    "# a function will shuffle the list, another will take a player's guess, and finally \n",
    "# another will check to see if it is correct. This is based on the classic carnival \n",
    "# game of guessing which cup a red ball is under.\n",
    "\n",
    "from random import shuffle\n",
    "\n",
    "mylist = [' ', 'O',' ']\n",
    "\n",
    "def shuffle_numbers(mylist):\n",
    "    shuffle(mylist)\n",
    "    return mylist\n",
    "\n",
    "def player_guess():\n",
    "    guess = ''\n",
    "    while guess not in ['0','1','2']:\n",
    "        guess = input(\"Pick a number from 0,1 and 2: \")\n",
    "    return int(guess)\n",
    "\n",
    "def check_guess(mylist, guess):\n",
    "    if mylist[guess] == \"O\":\n",
    "        print(\"Correct guess!\")\n",
    "    else:\n",
    "        print(\"Wrong, better luck next time\")\n",
    "\n",
    "shuffle_numbers(mylist)\n",
    "guess = player_guess()\n",
    "check_guess(mylist,guess)\n",
    "    \n",
    "\n",
    "\n",
    "\n"
   ]
  },
  {
   "cell_type": "code",
   "execution_count": 22,
   "id": "ca387f59",
   "metadata": {},
   "outputs": [
    {
     "name": "stdout",
     "output_type": "stream",
     "text": [
      "aBcDeF\n"
     ]
    }
   ],
   "source": [
    "# coding exercise 19: \n",
    "# Functions #10: skyline\n",
    "\n",
    "def myfunc(a):\n",
    "    i = 0\n",
    "    s=''\n",
    "    while i<len(a):\n",
    "        if (i+1)%2 == 0:\n",
    "            s = s + a[i].upper()\n",
    "        else:\n",
    "            s = s + a[i].lower()\n",
    "        i += 1\n",
    "    return s\n",
    "result = myfunc(\"abcdef\")\n",
    "print(result)\n"
   ]
  },
  {
   "cell_type": "code",
   "execution_count": null,
   "id": "3e403115",
   "metadata": {},
   "outputs": [],
   "source": []
  }
 ],
 "metadata": {
  "kernelspec": {
   "display_name": "Python 3 (ipykernel)",
   "language": "python",
   "name": "python3"
  },
  "language_info": {
   "codemirror_mode": {
    "name": "ipython",
    "version": 3
   },
   "file_extension": ".py",
   "mimetype": "text/x-python",
   "name": "python",
   "nbconvert_exporter": "python",
   "pygments_lexer": "ipython3",
   "version": "3.11.5"
  }
 },
 "nbformat": 4,
 "nbformat_minor": 5
}
